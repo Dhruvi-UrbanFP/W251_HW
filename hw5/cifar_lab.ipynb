{
  "cells": [
    {
      "cell_type": "code",
      "execution_count": 5,
      "id": "cace261f",
      "metadata": {
        "id": "cace261f"
      },
      "outputs": [],
      "source": [
        "import os\n",
        "import random\n",
        "import shutil\n",
        "import time\n",
        "import warnings\n",
        "\n",
        "import torch\n",
        "import torch.nn as nn\n",
        "import torch.backends.cudnn as cudnn\n",
        "import torch.optim\n",
        "\n",
        "import torch.utils.data\n",
        "import torchvision\n",
        "import torchvision.transforms as transforms\n",
        "import torchvision.datasets as datasets\n",
        "import torchvision.models as models"
      ]
    },
    {
      "cell_type": "code",
      "execution_count": 6,
      "id": "d693cd6c",
      "metadata": {
        "id": "d693cd6c"
      },
      "outputs": [],
      "source": [
        "SEED=1"
      ]
    },
    {
      "cell_type": "code",
      "execution_count": 7,
      "id": "363e2b75",
      "metadata": {
        "id": "363e2b75"
      },
      "outputs": [],
      "source": [
        "random.seed(SEED)\n",
        "torch.manual_seed(SEED)\n",
        "cudnn.deterministic = True"
      ]
    },
    {
      "cell_type": "code",
      "execution_count": 8,
      "id": "0d479743",
      "metadata": {
        "id": "0d479743"
      },
      "outputs": [],
      "source": [
        "START_EPOCH = 0"
      ]
    },
    {
      "cell_type": "markdown",
      "id": "c8ec40e9",
      "metadata": {
        "id": "c8ec40e9"
      },
      "source": [
        "### Set the architecture to resnet 18 below"
      ]
    },
    {
      "cell_type": "code",
      "execution_count": 9,
      "id": "97b1a0aa",
      "metadata": {
        "tags": [
          "parameters"
        ],
        "id": "97b1a0aa"
      },
      "outputs": [],
      "source": [
        "##########################\n",
        "ARCH = 'resnet18'\n",
        "# please look up how to do that\n",
        "########################\n",
        "EPOCHS = 200\n",
        "LR = 0.1\n",
        "MOMENTUM = 0.9\n",
        "WEIGHT_DECAY = 5e-4\n",
        "PRINT_FREQ = 50\n",
        "TRAIN_BATCH=128\n",
        "VAL_BATCH=128\n",
        "WORKERS=2\n",
        "# TRAINDIR=\"/workspace/data/imagenet2012/train\"\n",
        "# VALDIR=\"/workspace/data/imagenet2012/val\""
      ]
    },
    {
      "cell_type": "code",
      "execution_count": null,
      "id": "09de23aa",
      "metadata": {
        "id": "09de23aa"
      },
      "outputs": [],
      "source": [
        "# TRAINDIR=\"/CINIC/train\"\n",
        "# VALDIR=\"/CINIC/valid\""
      ]
    },
    {
      "cell_type": "markdown",
      "id": "e86c3188",
      "metadata": {
        "id": "e86c3188"
      },
      "source": [
        "### Check if cuda is available here"
      ]
    },
    {
      "cell_type": "code",
      "execution_count": 10,
      "id": "63a0499b",
      "metadata": {
        "id": "63a0499b",
        "outputId": "b00cd294-34dd-4952-f48f-40caa31ae49f",
        "colab": {
          "base_uri": "https://localhost:8080/"
        }
      },
      "outputs": [
        {
          "output_type": "stream",
          "name": "stdout",
          "text": [
            "Device detected!\n"
          ]
        }
      ],
      "source": [
        "# check if cuda is available in this cell\n",
        "# if it is not available, you should not go forward!\n",
        "\n",
        "if torch.cuda.is_available():\n",
        "  print(f'Device detected!')"
      ]
    },
    {
      "cell_type": "markdown",
      "id": "f83c35f6",
      "metadata": {
        "id": "f83c35f6"
      },
      "source": [
        "### Assign your GPU below"
      ]
    },
    {
      "cell_type": "code",
      "execution_count": 28,
      "id": "252a08a3",
      "metadata": {
        "id": "252a08a3"
      },
      "outputs": [],
      "source": [
        "# Assign your GPU in this cell\n",
        "# GPU = torch.cuda.device('cuda:0')\n",
        "GPU = 0"
      ]
    },
    {
      "cell_type": "code",
      "execution_count": 29,
      "id": "d8e7ec23",
      "metadata": {
        "id": "d8e7ec23"
      },
      "outputs": [],
      "source": [
        "# set your active device to your GPU in this cell\n",
        "torch.cuda.set_device(GPU)"
      ]
    },
    {
      "cell_type": "code",
      "execution_count": 30,
      "id": "1e5ddf20",
      "metadata": {
        "id": "1e5ddf20"
      },
      "outputs": [],
      "source": [
        "# enable algorithm optimization\n",
        "cudnn.benchmark = True"
      ]
    },
    {
      "cell_type": "markdown",
      "id": "7cdd6e12",
      "metadata": {
        "id": "7cdd6e12"
      },
      "source": [
        "### Fill in the heart of the train section below"
      ]
    },
    {
      "cell_type": "code",
      "execution_count": 16,
      "id": "70dbd4c4",
      "metadata": {
        "id": "70dbd4c4"
      },
      "outputs": [],
      "source": [
        "def train(train_loader, model, criterion, optimizer, epoch):\n",
        "    batch_time = AverageMeter('Time', ':6.3f')\n",
        "    data_time = AverageMeter('Data', ':6.3f')\n",
        "    losses = AverageMeter('Loss', ':.4e')\n",
        "    top1 = AverageMeter('Acc@1', ':6.2f')\n",
        "    top5 = AverageMeter('Acc@5', ':6.2f')\n",
        "    progress = ProgressMeter(\n",
        "        len(train_loader),\n",
        "        [batch_time, data_time, losses, top1, top5],\n",
        "        prefix=\"Epoch: [{}]\".format(epoch))\n",
        "\n",
        "    ######################\n",
        "    # switch model to train mode here\n",
        "    model.train()\n",
        "    ################\n",
        "\n",
        "    end = time.time()\n",
        "    for i, (images, target) in enumerate(train_loader):\n",
        "        # measure data loading time\n",
        "        data_time.update(time.time() - end)\n",
        "\n",
        "        #####################\n",
        "        # send the images to cuda device\n",
        "        # send the target to cuda device\n",
        "        if GPU is not None:\n",
        "          images = images.cuda(GPU, non_blocking=True)\n",
        "        if torch.cuda.is_available():\n",
        "          target = target.cuda(GPU, non_blocking=True)\n",
        "\n",
        "        # compute output\n",
        "        # output = model ?? images\n",
        "        output = model(images)\n",
        "\n",
        "        # compute loss \n",
        "        # loss = criterion, output, target\n",
        "        loss = criterion(output, target)\n",
        "\n",
        "\n",
        "        # measure accuracy and record loss\n",
        "        acc1, acc5 = accuracy(output, target, topk=(1, 5))\n",
        "        losses.update(loss.item(), images.size(0))\n",
        "        top1.update(acc1[0], images.size(0))\n",
        "        top5.update(acc5[0], images.size(0))\n",
        "\n",
        "        # compute gradient and do SGD step\n",
        "        \n",
        "        #### zero out gradients in the optimier\n",
        "        ## optimizer ..??\n",
        "        optimizer.zero_grad()\n",
        "        \n",
        "        ## backprop!\n",
        "        ### loss... ???\n",
        "        loss.backward()\n",
        "        \n",
        "        # update the weights!\n",
        "        ## optimier .. ??\n",
        "        optimizer.step()\n",
        "\n",
        "        # measure elapsed time\n",
        "        batch_time.update(time.time() - end)\n",
        "        end = time.time()\n",
        "\n",
        "        if i % PRINT_FREQ == 0:\n",
        "            progress.display(i)"
      ]
    },
    {
      "cell_type": "markdown",
      "id": "deb3b62e",
      "metadata": {
        "id": "deb3b62e"
      },
      "source": [
        "#### Fill in the validate section below"
      ]
    },
    {
      "cell_type": "code",
      "execution_count": 17,
      "id": "a3f276cc",
      "metadata": {
        "id": "a3f276cc"
      },
      "outputs": [],
      "source": [
        "def validate(val_loader, model, criterion):\n",
        "    batch_time = AverageMeter('Time', ':6.3f')\n",
        "    losses = AverageMeter('Loss', ':.4e')\n",
        "    top1 = AverageMeter('Acc@1', ':6.2f')\n",
        "    top5 = AverageMeter('Acc@5', ':6.2f')\n",
        "    progress = ProgressMeter(\n",
        "        len(val_loader),\n",
        "        [batch_time, losses, top1, top5],\n",
        "        prefix='Test: ')\n",
        "\n",
        "    # switch to evaluate mode\n",
        "    # model ???\n",
        "    model.eval()\n",
        "\n",
        "    with torch.no_grad():\n",
        "        end = time.time()\n",
        "        for i, (images, target) in enumerate(val_loader):\n",
        "            \n",
        "            \n",
        "            ### send the images and target to cuda\n",
        "            if GPU is not None:\n",
        "              images = images.cuda(GPU, non_blocking=True)\n",
        "            if torch.cuda.is_available():\n",
        "              target = target.cuda(GPU, non_blocking=True)\n",
        "\n",
        "            # compute output\n",
        "            # output = model ??? images?\n",
        "            output = model(images)\n",
        "\n",
        "            # compute loss\n",
        "            # loss  = criterion ?? output ?? target\n",
        "            loss = criterion(output, target)\n",
        "\n",
        "            # measure accuracy and record loss\n",
        "            acc1, acc5 = accuracy(output, target, topk=(1, 5))\n",
        "            losses.update(loss.item(), images.size(0))\n",
        "            top1.update(acc1[0], images.size(0))\n",
        "            top5.update(acc5[0], images.size(0))\n",
        "\n",
        "            # measure elapsed time\n",
        "            batch_time.update(time.time() - end)\n",
        "            end = time.time()\n",
        "\n",
        "            if i % PRINT_FREQ == 0:\n",
        "                progress.display(i)\n",
        "\n",
        "        # TODO: this should also be done with the ProgressMeter\n",
        "        print(' * Acc@1 {top1.avg:.3f} Acc@5 {top5.avg:.3f}'\n",
        "              .format(top1=top1, top5=top5))\n",
        "\n",
        "    return top1.avg"
      ]
    },
    {
      "cell_type": "markdown",
      "id": "fbe49226",
      "metadata": {
        "id": "fbe49226"
      },
      "source": [
        "### Save the checkpoint"
      ]
    },
    {
      "cell_type": "code",
      "execution_count": 44,
      "id": "ff8a4159",
      "metadata": {
        "id": "ff8a4159"
      },
      "outputs": [],
      "source": [
        "def save_checkpoint(state, is_best, filename='checkpoint.pth.tar'):\n",
        "    # save the model state!\n",
        "    # state ??? \n",
        "    torch.save(state, filename)\n",
        "    if is_best:\n",
        "        shutil.copyfile(filename, 'model_best.pth.tar')"
      ]
    },
    {
      "cell_type": "code",
      "execution_count": 19,
      "id": "1cd7ea3a",
      "metadata": {
        "id": "1cd7ea3a"
      },
      "outputs": [],
      "source": [
        "class AverageMeter(object):\n",
        "    \"\"\"Computes and stores the average and current value\"\"\"\n",
        "    def __init__(self, name, fmt=':f'):\n",
        "        self.name = name\n",
        "        self.fmt = fmt\n",
        "        self.reset()\n",
        "\n",
        "    def reset(self):\n",
        "        self.val = 0\n",
        "        self.avg = 0\n",
        "        self.sum = 0\n",
        "        self.count = 0\n",
        "\n",
        "    def update(self, val, n=1):\n",
        "        self.val = val\n",
        "        self.sum += val * n\n",
        "        self.count += n\n",
        "        self.avg = self.sum / self.count\n",
        "\n",
        "    def __str__(self):\n",
        "        fmtstr = '{name} {val' + self.fmt + '} ({avg' + self.fmt + '})'\n",
        "        return fmtstr.format(**self.__dict__)"
      ]
    },
    {
      "cell_type": "code",
      "execution_count": 20,
      "id": "e1da87ab",
      "metadata": {
        "id": "e1da87ab"
      },
      "outputs": [],
      "source": [
        "class ProgressMeter(object):\n",
        "    def __init__(self, num_batches, meters, prefix=\"\"):\n",
        "        self.batch_fmtstr = self._get_batch_fmtstr(num_batches)\n",
        "        self.meters = meters\n",
        "        self.prefix = prefix\n",
        "\n",
        "    def display(self, batch):\n",
        "        entries = [self.prefix + self.batch_fmtstr.format(batch)]\n",
        "        entries += [str(meter) for meter in self.meters]\n",
        "        print('\\t'.join(entries))\n",
        "\n",
        "    def _get_batch_fmtstr(self, num_batches):\n",
        "        num_digits = len(str(num_batches // 1))\n",
        "        fmt = '{:' + str(num_digits) + 'd}'\n",
        "        return '[' + fmt + '/' + fmt.format(num_batches) + ']'"
      ]
    },
    {
      "cell_type": "code",
      "execution_count": 21,
      "id": "00211030",
      "metadata": {
        "id": "00211030"
      },
      "outputs": [],
      "source": [
        "# if we are adjusting the LR manually use this\n",
        "def adjust_learning_rate(optimizer, epoch):\n",
        "    \"\"\"Sets the learning rate to the initial LR decayed by 10 every 30 epochs\"\"\"\n",
        "    lr = LR * (0.1 ** (epoch // 30))\n",
        "    for param_group in optimizer.param_groups:\n",
        "        param_group['lr'] = lr"
      ]
    },
    {
      "cell_type": "code",
      "execution_count": 22,
      "id": "da2c1382",
      "metadata": {
        "id": "da2c1382"
      },
      "outputs": [],
      "source": [
        "def accuracy(output, target, topk=(1,)):\n",
        "    \"\"\"Computes the accuracy over the k top predictions for the specified values of k\"\"\"\n",
        "    with torch.no_grad():\n",
        "        maxk = max(topk)\n",
        "        batch_size = target.size(0)\n",
        "\n",
        "        _, pred = output.topk(maxk, 1, True, True)\n",
        "        pred = pred.t()\n",
        "        correct = pred.eq(target.view(1, -1).expand_as(pred))\n",
        "\n",
        "        res = []\n",
        "        for k in topk:\n",
        "            correct_k = correct[:k].reshape(-1).float().sum(0, keepdim=True)\n",
        "            res.append(correct_k.mul_(100.0 / batch_size))\n",
        "        return res"
      ]
    },
    {
      "cell_type": "code",
      "execution_count": 23,
      "id": "5c29e7a1",
      "metadata": {
        "id": "5c29e7a1"
      },
      "outputs": [],
      "source": [
        "imagenet_mean_RGB = [0.47889522, 0.47227842, 0.43047404]\n",
        "imagenet_std_RGB = [0.229, 0.224, 0.225]\n",
        "cinic_mean_RGB = [0.47889522, 0.47227842, 0.43047404]\n",
        "cinic_std_RGB = [0.24205776, 0.23828046, 0.25874835]\n",
        "cifar_mean_RGB = [0.4914, 0.4822, 0.4465]\n",
        "cifar_std_RGB = [0.2023, 0.1994, 0.2010]"
      ]
    },
    {
      "cell_type": "code",
      "execution_count": 24,
      "id": "e1a61c02",
      "metadata": {
        "id": "e1a61c02"
      },
      "outputs": [],
      "source": [
        "normalize = transforms.Normalize(mean=cifar_mean_RGB, std=cifar_std_RGB)"
      ]
    },
    {
      "cell_type": "code",
      "execution_count": 25,
      "id": "47dd3e49",
      "metadata": {
        "id": "47dd3e49"
      },
      "outputs": [],
      "source": [
        "IMG_SIZE = 32\n",
        "# IMG_SIZE = 224"
      ]
    },
    {
      "cell_type": "markdown",
      "id": "de4387cb",
      "metadata": {
        "id": "de4387cb"
      },
      "source": [
        "### Initialize the model using the architecture you selected above"
      ]
    },
    {
      "cell_type": "code",
      "execution_count": 26,
      "id": "b1abcc33",
      "metadata": {
        "id": "b1abcc33"
      },
      "outputs": [],
      "source": [
        "# select the model\n",
        "# model = ... \n",
        "\n",
        "NUM_CLASSES = 10 \n",
        "model = models.__dict__[ARCH]()\n",
        "model.fc = nn.Linear(model.fc.in_features, NUM_CLASSES)"
      ]
    },
    {
      "cell_type": "markdown",
      "id": "2db1bb69",
      "metadata": {
        "id": "2db1bb69"
      },
      "source": [
        "### Send the model to the cuda device"
      ]
    },
    {
      "cell_type": "code",
      "execution_count": 31,
      "id": "7d23ccb4",
      "metadata": {
        "id": "7d23ccb4",
        "outputId": "6669c9d7-f5ac-4723-d6e6-9e0f4f973003",
        "colab": {
          "base_uri": "https://localhost:8080/"
        }
      },
      "outputs": [
        {
          "output_type": "execute_result",
          "data": {
            "text/plain": [
              "ResNet(\n",
              "  (conv1): Conv2d(3, 64, kernel_size=(7, 7), stride=(2, 2), padding=(3, 3), bias=False)\n",
              "  (bn1): BatchNorm2d(64, eps=1e-05, momentum=0.1, affine=True, track_running_stats=True)\n",
              "  (relu): ReLU(inplace=True)\n",
              "  (maxpool): MaxPool2d(kernel_size=3, stride=2, padding=1, dilation=1, ceil_mode=False)\n",
              "  (layer1): Sequential(\n",
              "    (0): BasicBlock(\n",
              "      (conv1): Conv2d(64, 64, kernel_size=(3, 3), stride=(1, 1), padding=(1, 1), bias=False)\n",
              "      (bn1): BatchNorm2d(64, eps=1e-05, momentum=0.1, affine=True, track_running_stats=True)\n",
              "      (relu): ReLU(inplace=True)\n",
              "      (conv2): Conv2d(64, 64, kernel_size=(3, 3), stride=(1, 1), padding=(1, 1), bias=False)\n",
              "      (bn2): BatchNorm2d(64, eps=1e-05, momentum=0.1, affine=True, track_running_stats=True)\n",
              "    )\n",
              "    (1): BasicBlock(\n",
              "      (conv1): Conv2d(64, 64, kernel_size=(3, 3), stride=(1, 1), padding=(1, 1), bias=False)\n",
              "      (bn1): BatchNorm2d(64, eps=1e-05, momentum=0.1, affine=True, track_running_stats=True)\n",
              "      (relu): ReLU(inplace=True)\n",
              "      (conv2): Conv2d(64, 64, kernel_size=(3, 3), stride=(1, 1), padding=(1, 1), bias=False)\n",
              "      (bn2): BatchNorm2d(64, eps=1e-05, momentum=0.1, affine=True, track_running_stats=True)\n",
              "    )\n",
              "  )\n",
              "  (layer2): Sequential(\n",
              "    (0): BasicBlock(\n",
              "      (conv1): Conv2d(64, 128, kernel_size=(3, 3), stride=(2, 2), padding=(1, 1), bias=False)\n",
              "      (bn1): BatchNorm2d(128, eps=1e-05, momentum=0.1, affine=True, track_running_stats=True)\n",
              "      (relu): ReLU(inplace=True)\n",
              "      (conv2): Conv2d(128, 128, kernel_size=(3, 3), stride=(1, 1), padding=(1, 1), bias=False)\n",
              "      (bn2): BatchNorm2d(128, eps=1e-05, momentum=0.1, affine=True, track_running_stats=True)\n",
              "      (downsample): Sequential(\n",
              "        (0): Conv2d(64, 128, kernel_size=(1, 1), stride=(2, 2), bias=False)\n",
              "        (1): BatchNorm2d(128, eps=1e-05, momentum=0.1, affine=True, track_running_stats=True)\n",
              "      )\n",
              "    )\n",
              "    (1): BasicBlock(\n",
              "      (conv1): Conv2d(128, 128, kernel_size=(3, 3), stride=(1, 1), padding=(1, 1), bias=False)\n",
              "      (bn1): BatchNorm2d(128, eps=1e-05, momentum=0.1, affine=True, track_running_stats=True)\n",
              "      (relu): ReLU(inplace=True)\n",
              "      (conv2): Conv2d(128, 128, kernel_size=(3, 3), stride=(1, 1), padding=(1, 1), bias=False)\n",
              "      (bn2): BatchNorm2d(128, eps=1e-05, momentum=0.1, affine=True, track_running_stats=True)\n",
              "    )\n",
              "  )\n",
              "  (layer3): Sequential(\n",
              "    (0): BasicBlock(\n",
              "      (conv1): Conv2d(128, 256, kernel_size=(3, 3), stride=(2, 2), padding=(1, 1), bias=False)\n",
              "      (bn1): BatchNorm2d(256, eps=1e-05, momentum=0.1, affine=True, track_running_stats=True)\n",
              "      (relu): ReLU(inplace=True)\n",
              "      (conv2): Conv2d(256, 256, kernel_size=(3, 3), stride=(1, 1), padding=(1, 1), bias=False)\n",
              "      (bn2): BatchNorm2d(256, eps=1e-05, momentum=0.1, affine=True, track_running_stats=True)\n",
              "      (downsample): Sequential(\n",
              "        (0): Conv2d(128, 256, kernel_size=(1, 1), stride=(2, 2), bias=False)\n",
              "        (1): BatchNorm2d(256, eps=1e-05, momentum=0.1, affine=True, track_running_stats=True)\n",
              "      )\n",
              "    )\n",
              "    (1): BasicBlock(\n",
              "      (conv1): Conv2d(256, 256, kernel_size=(3, 3), stride=(1, 1), padding=(1, 1), bias=False)\n",
              "      (bn1): BatchNorm2d(256, eps=1e-05, momentum=0.1, affine=True, track_running_stats=True)\n",
              "      (relu): ReLU(inplace=True)\n",
              "      (conv2): Conv2d(256, 256, kernel_size=(3, 3), stride=(1, 1), padding=(1, 1), bias=False)\n",
              "      (bn2): BatchNorm2d(256, eps=1e-05, momentum=0.1, affine=True, track_running_stats=True)\n",
              "    )\n",
              "  )\n",
              "  (layer4): Sequential(\n",
              "    (0): BasicBlock(\n",
              "      (conv1): Conv2d(256, 512, kernel_size=(3, 3), stride=(2, 2), padding=(1, 1), bias=False)\n",
              "      (bn1): BatchNorm2d(512, eps=1e-05, momentum=0.1, affine=True, track_running_stats=True)\n",
              "      (relu): ReLU(inplace=True)\n",
              "      (conv2): Conv2d(512, 512, kernel_size=(3, 3), stride=(1, 1), padding=(1, 1), bias=False)\n",
              "      (bn2): BatchNorm2d(512, eps=1e-05, momentum=0.1, affine=True, track_running_stats=True)\n",
              "      (downsample): Sequential(\n",
              "        (0): Conv2d(256, 512, kernel_size=(1, 1), stride=(2, 2), bias=False)\n",
              "        (1): BatchNorm2d(512, eps=1e-05, momentum=0.1, affine=True, track_running_stats=True)\n",
              "      )\n",
              "    )\n",
              "    (1): BasicBlock(\n",
              "      (conv1): Conv2d(512, 512, kernel_size=(3, 3), stride=(1, 1), padding=(1, 1), bias=False)\n",
              "      (bn1): BatchNorm2d(512, eps=1e-05, momentum=0.1, affine=True, track_running_stats=True)\n",
              "      (relu): ReLU(inplace=True)\n",
              "      (conv2): Conv2d(512, 512, kernel_size=(3, 3), stride=(1, 1), padding=(1, 1), bias=False)\n",
              "      (bn2): BatchNorm2d(512, eps=1e-05, momentum=0.1, affine=True, track_running_stats=True)\n",
              "    )\n",
              "  )\n",
              "  (avgpool): AdaptiveAvgPool2d(output_size=(1, 1))\n",
              "  (fc): Linear(in_features=512, out_features=10, bias=True)\n",
              ")"
            ]
          },
          "metadata": {},
          "execution_count": 31
        }
      ],
      "source": [
        "# send the model to the cuda device.. \n",
        "model.cuda(GPU)"
      ]
    },
    {
      "cell_type": "markdown",
      "id": "47a8eb8d",
      "metadata": {
        "id": "47a8eb8d"
      },
      "source": [
        "### Instantiate the loss to cross entropy"
      ]
    },
    {
      "cell_type": "code",
      "execution_count": 32,
      "id": "a49ae3c9",
      "metadata": {
        "id": "a49ae3c9"
      },
      "outputs": [],
      "source": [
        "# use the cross-entropy loss\n",
        "criterion = nn.CrossEntropyLoss().cuda(GPU)"
      ]
    },
    {
      "cell_type": "markdown",
      "id": "8a49045a",
      "metadata": {
        "id": "8a49045a"
      },
      "source": [
        "### Instantiate the optimizer to SGD"
      ]
    },
    {
      "cell_type": "code",
      "execution_count": 33,
      "id": "aa3a04dd",
      "metadata": {
        "id": "aa3a04dd"
      },
      "outputs": [],
      "source": [
        "# use SGD .. use the momentum and weight decay vars\n",
        "optimizer = torch.optim.SGD(model.parameters(), LR,\n",
        "                               momentum=MOMENTUM,\n",
        "                               weight_decay=WEIGHT_DECAY)"
      ]
    },
    {
      "cell_type": "markdown",
      "id": "f93ef11d",
      "metadata": {
        "id": "f93ef11d"
      },
      "source": [
        "#### Create the learning rate scheduler"
      ]
    },
    {
      "cell_type": "code",
      "execution_count": 34,
      "id": "a0e1727a",
      "metadata": {
        "id": "a0e1727a"
      },
      "outputs": [],
      "source": [
        "# use CosineAnnealingLR\n",
        "scheduler = torch.optim.lr_scheduler.CosineAnnealingLR(optimizer, T_max=EPOCHS)"
      ]
    },
    {
      "cell_type": "code",
      "execution_count": 35,
      "id": "2fe08caa",
      "metadata": {
        "id": "2fe08caa"
      },
      "outputs": [],
      "source": [
        "transform_train = transforms.Compose([\n",
        "    transforms.RandomCrop(32, padding=4),\n",
        "    transforms.RandomHorizontalFlip(),\n",
        "    transforms.ToTensor(),\n",
        "    transforms.Normalize(cifar_mean_RGB, cifar_std_RGB),\n",
        "])"
      ]
    },
    {
      "cell_type": "markdown",
      "id": "236528e1",
      "metadata": {
        "id": "236528e1"
      },
      "source": [
        "### Create the train dataset object"
      ]
    },
    {
      "cell_type": "code",
      "execution_count": 36,
      "id": "7c29f6b1",
      "metadata": {
        "id": "7c29f6b1",
        "outputId": "2da17535-f855-445f-f675-36359f8090c0",
        "colab": {
          "base_uri": "https://localhost:8080/",
          "height": 84,
          "referenced_widgets": [
            "342a2e614be74fa8a17146fe47650811",
            "43cec9c9d03d48d2b9bc6b99cc527022",
            "44a90cb66fac49a698b7640e41255ca6",
            "22a5917e355342ca8c22d924a7674b55",
            "3a629b7102e2434a85a309ff01b28b44",
            "72c3736ac96c430296058efd8d1af679",
            "4a52ded273a24476b45df8599add8f88",
            "3cfef8712dfd40019ad2b7ea545502e5",
            "67ba4eb312e3460587839a53513d2019",
            "81e5fb7393284824967f17bef94a6dac",
            "a9a9a588c9fb43d79b9afad5e2a10c31"
          ]
        }
      },
      "outputs": [
        {
          "output_type": "stream",
          "name": "stdout",
          "text": [
            "Downloading https://www.cs.toronto.edu/~kriz/cifar-10-python.tar.gz to ./data/cifar-10-python.tar.gz\n"
          ]
        },
        {
          "output_type": "display_data",
          "data": {
            "application/vnd.jupyter.widget-view+json": {
              "model_id": "342a2e614be74fa8a17146fe47650811",
              "version_minor": 0,
              "version_major": 2
            },
            "text/plain": [
              "  0%|          | 0/170498071 [00:00<?, ?it/s]"
            ]
          },
          "metadata": {}
        },
        {
          "output_type": "stream",
          "name": "stdout",
          "text": [
            "Extracting ./data/cifar-10-python.tar.gz to ./data\n"
          ]
        }
      ],
      "source": [
        "# use torchvision.datasets.CIFAR10\n",
        "train_dataset = torchvision.datasets.CIFAR10(root='./data', train=True, download=True, transform=transform_train)"
      ]
    },
    {
      "cell_type": "code",
      "execution_count": 37,
      "id": "63dfe3c0",
      "metadata": {
        "id": "63dfe3c0"
      },
      "outputs": [],
      "source": [
        "transform_val = transforms.Compose([\n",
        "    transforms.ToTensor(),\n",
        "    transforms.Normalize(cifar_mean_RGB, cifar_std_RGB),\n",
        "])"
      ]
    },
    {
      "cell_type": "markdown",
      "id": "38ca6c39",
      "metadata": {
        "id": "38ca6c39"
      },
      "source": [
        "### Create the val dataset object"
      ]
    },
    {
      "cell_type": "code",
      "execution_count": 38,
      "id": "42d58f82",
      "metadata": {
        "id": "42d58f82",
        "outputId": "f46ff9db-34db-422e-ea66-c28fe41eb4fd",
        "colab": {
          "base_uri": "https://localhost:8080/"
        }
      },
      "outputs": [
        {
          "output_type": "stream",
          "name": "stdout",
          "text": [
            "Files already downloaded and verified\n"
          ]
        }
      ],
      "source": [
        "# use torchvision.datasets.CIFAR10\n",
        "val_dataset = torchvision.datasets.CIFAR10(\n",
        "    root='./data', train=False, download=True, transform=transform_val\n",
        ")"
      ]
    },
    {
      "cell_type": "markdown",
      "id": "3a291660",
      "metadata": {
        "id": "3a291660"
      },
      "source": [
        "### Create the train dataloader"
      ]
    },
    {
      "cell_type": "code",
      "execution_count": 39,
      "id": "574373be",
      "metadata": {
        "id": "574373be"
      },
      "outputs": [],
      "source": [
        "# fill this in\n",
        "train_loader = torch.utils.data.DataLoader(train_dataset, \n",
        "                                           batch_size=TRAIN_BATCH, \n",
        "                                           shuffle=True,\n",
        "                                           num_workers=WORKERS, \n",
        "                                           pin_memory=True, \n",
        "                                           sampler=None)"
      ]
    },
    {
      "cell_type": "markdown",
      "id": "b280c6e0",
      "metadata": {
        "id": "b280c6e0"
      },
      "source": [
        "### Create the c"
      ]
    },
    {
      "cell_type": "code",
      "execution_count": 40,
      "id": "6aa623fe",
      "metadata": {
        "id": "6aa623fe"
      },
      "outputs": [],
      "source": [
        "# fill this in..\n",
        "val_loader = torch.utils.data.DataLoader(val_dataset, \n",
        "                                         batch_size=VAL_BATCH, \n",
        "                                         shuffle=False,\n",
        "                                         num_workers=WORKERS, \n",
        "                                         pin_memory=True, \n",
        "                                         sampler=None) "
      ]
    },
    {
      "cell_type": "code",
      "execution_count": 41,
      "id": "7cfa6766",
      "metadata": {
        "id": "7cfa6766"
      },
      "outputs": [],
      "source": [
        "best_acc1 = 0"
      ]
    },
    {
      "cell_type": "code",
      "execution_count": 45,
      "id": "0d0620a6",
      "metadata": {
        "id": "0d0620a6",
        "outputId": "f8c58602-0dee-473b-988c-25138a295f93",
        "colab": {
          "base_uri": "https://localhost:8080/",
          "height": 1000
        }
      },
      "outputs": [
        {
          "output_type": "stream",
          "name": "stdout",
          "text": [
            "Epoch: [0][  0/391]\tTime  0.296 ( 0.296)\tData  0.196 ( 0.196)\tLoss 1.3121e+00 (1.3121e+00)\tAcc@1  50.00 ( 50.00)\tAcc@5  94.53 ( 94.53)\n",
            "Epoch: [0][ 50/391]\tTime  0.085 ( 0.082)\tData  0.000 ( 0.009)\tLoss 1.3027e+00 (1.3472e+00)\tAcc@1  49.22 ( 50.90)\tAcc@5  91.41 ( 93.66)\n",
            "Epoch: [0][100/391]\tTime  0.064 ( 0.079)\tData  0.006 ( 0.008)\tLoss 1.1654e+00 (1.3294e+00)\tAcc@1  53.91 ( 51.71)\tAcc@5  97.66 ( 93.95)\n",
            "Epoch: [0][150/391]\tTime  0.080 ( 0.078)\tData  0.000 ( 0.008)\tLoss 1.3823e+00 (1.3230e+00)\tAcc@1  51.56 ( 51.92)\tAcc@5  92.97 ( 94.04)\n",
            "Epoch: [0][200/391]\tTime  0.085 ( 0.077)\tData  0.000 ( 0.007)\tLoss 1.2303e+00 (1.3164e+00)\tAcc@1  53.91 ( 52.22)\tAcc@5  96.09 ( 94.09)\n",
            "Epoch: [0][250/391]\tTime  0.084 ( 0.077)\tData  0.009 ( 0.007)\tLoss 1.1103e+00 (1.3113e+00)\tAcc@1  64.06 ( 52.58)\tAcc@5  94.53 ( 94.08)\n",
            "Epoch: [0][300/391]\tTime  0.057 ( 0.076)\tData  0.000 ( 0.008)\tLoss 1.0946e+00 (1.3014e+00)\tAcc@1  62.50 ( 53.15)\tAcc@5  96.88 ( 94.09)\n",
            "Epoch: [0][350/391]\tTime  0.110 ( 0.076)\tData  0.028 ( 0.008)\tLoss 1.1955e+00 (1.2925e+00)\tAcc@1  57.03 ( 53.45)\tAcc@5  95.31 ( 94.22)\n",
            "Test: [ 0/79]\tTime  0.197 ( 0.197)\tLoss 1.0040e+00 (1.0040e+00)\tAcc@1  67.19 ( 67.19)\tAcc@5  95.31 ( 95.31)\n",
            "Test: [50/79]\tTime  0.063 ( 0.044)\tLoss 1.1358e+00 (1.1593e+00)\tAcc@1  54.69 ( 57.72)\tAcc@5  95.31 ( 95.63)\n",
            " * Acc@1 57.420 Acc@5 95.580\n",
            "lr: [0.09999383162408304]\n",
            "Epoch: [1][  0/391]\tTime  0.297 ( 0.297)\tData  0.219 ( 0.219)\tLoss 1.2703e+00 (1.2703e+00)\tAcc@1  50.78 ( 50.78)\tAcc@5  96.88 ( 96.88)\n",
            "Epoch: [1][ 50/391]\tTime  0.081 ( 0.077)\tData  0.035 ( 0.011)\tLoss 1.0888e+00 (1.1988e+00)\tAcc@1  57.81 ( 56.80)\tAcc@5  96.09 ( 95.57)\n",
            "Epoch: [1][100/391]\tTime  0.069 ( 0.075)\tData  0.007 ( 0.008)\tLoss 1.4752e+00 (1.1932e+00)\tAcc@1  46.88 ( 57.43)\tAcc@5  92.19 ( 95.29)\n",
            "Epoch: [1][150/391]\tTime  0.068 ( 0.074)\tData  0.000 ( 0.007)\tLoss 1.4668e+00 (1.1883e+00)\tAcc@1  48.44 ( 57.78)\tAcc@5  95.31 ( 95.35)\n",
            "Epoch: [1][200/391]\tTime  0.082 ( 0.074)\tData  0.000 ( 0.006)\tLoss 1.0462e+00 (1.1863e+00)\tAcc@1  68.75 ( 57.75)\tAcc@5  94.53 ( 95.29)\n",
            "Epoch: [1][250/391]\tTime  0.081 ( 0.074)\tData  0.034 ( 0.007)\tLoss 1.2288e+00 (1.1688e+00)\tAcc@1  56.25 ( 58.40)\tAcc@5  94.53 ( 95.45)\n",
            "Epoch: [1][300/391]\tTime  0.046 ( 0.074)\tData  0.000 ( 0.007)\tLoss 1.0971e+00 (1.1639e+00)\tAcc@1  60.16 ( 58.61)\tAcc@5  93.75 ( 95.50)\n",
            "Epoch: [1][350/391]\tTime  0.069 ( 0.074)\tData  0.000 ( 0.008)\tLoss 1.0989e+00 (1.1542e+00)\tAcc@1  57.81 ( 58.92)\tAcc@5  95.31 ( 95.59)\n",
            "Test: [ 0/79]\tTime  0.193 ( 0.193)\tLoss 1.0365e+00 (1.0365e+00)\tAcc@1  60.16 ( 60.16)\tAcc@5  96.09 ( 96.09)\n",
            "Test: [50/79]\tTime  0.025 ( 0.043)\tLoss 1.1660e+00 (1.1201e+00)\tAcc@1  53.91 ( 60.39)\tAcc@5  96.09 ( 96.06)\n",
            " * Acc@1 59.810 Acc@5 96.130\n",
            "lr: [0.09997532801828658]\n",
            "Epoch: [2][  0/391]\tTime  0.300 ( 0.300)\tData  0.208 ( 0.208)\tLoss 9.5127e-01 (9.5127e-01)\tAcc@1  69.53 ( 69.53)\tAcc@5  97.66 ( 97.66)\n",
            "Epoch: [2][ 50/391]\tTime  0.074 ( 0.077)\tData  0.000 ( 0.011)\tLoss 9.4308e-01 (1.0856e+00)\tAcc@1  64.06 ( 61.20)\tAcc@5  98.44 ( 95.93)\n",
            "Epoch: [2][100/391]\tTime  0.079 ( 0.075)\tData  0.000 ( 0.009)\tLoss 1.2042e+00 (1.0741e+00)\tAcc@1  57.81 ( 61.60)\tAcc@5  94.53 ( 96.07)\n",
            "Epoch: [2][150/391]\tTime  0.090 ( 0.075)\tData  0.042 ( 0.008)\tLoss 1.0523e+00 (1.0743e+00)\tAcc@1  60.94 ( 61.79)\tAcc@5  96.88 ( 96.25)\n",
            "Epoch: [2][200/391]\tTime  0.121 ( 0.075)\tData  0.046 ( 0.009)\tLoss 1.0027e+00 (1.0653e+00)\tAcc@1  64.06 ( 62.12)\tAcc@5  98.44 ( 96.32)\n",
            "Epoch: [2][250/391]\tTime  0.071 ( 0.074)\tData  0.000 ( 0.008)\tLoss 9.4571e-01 (1.0640e+00)\tAcc@1  64.84 ( 62.10)\tAcc@5  99.22 ( 96.34)\n",
            "Epoch: [2][300/391]\tTime  0.076 ( 0.074)\tData  0.000 ( 0.008)\tLoss 1.0515e+00 (1.0585e+00)\tAcc@1  60.94 ( 62.35)\tAcc@5  96.09 ( 96.34)\n",
            "Epoch: [2][350/391]\tTime  0.073 ( 0.074)\tData  0.001 ( 0.008)\tLoss 9.7332e-01 (1.0538e+00)\tAcc@1  63.28 ( 62.58)\tAcc@5  96.09 ( 96.36)\n",
            "Test: [ 0/79]\tTime  0.181 ( 0.181)\tLoss 7.8477e-01 (7.8477e-01)\tAcc@1  73.44 ( 73.44)\tAcc@5  98.44 ( 98.44)\n",
            "Test: [50/79]\tTime  0.029 ( 0.042)\tLoss 9.2889e-01 (9.7347e-01)\tAcc@1  71.09 ( 66.15)\tAcc@5  95.31 ( 96.60)\n",
            " * Acc@1 65.800 Acc@5 96.540\n",
            "lr: [0.09994449374809851]\n",
            "Epoch: [3][  0/391]\tTime  0.316 ( 0.316)\tData  0.232 ( 0.232)\tLoss 9.6773e-01 (9.6773e-01)\tAcc@1  63.28 ( 63.28)\tAcc@5  97.66 ( 97.66)\n",
            "Epoch: [3][ 50/391]\tTime  0.090 ( 0.078)\tData  0.014 ( 0.009)\tLoss 1.2074e+00 (9.9100e-01)\tAcc@1  59.38 ( 65.17)\tAcc@5  94.53 ( 96.48)\n",
            "Epoch: [3][100/391]\tTime  0.062 ( 0.075)\tData  0.000 ( 0.007)\tLoss 8.1838e-01 (9.9372e-01)\tAcc@1  67.19 ( 65.26)\tAcc@5  99.22 ( 96.40)\n",
            "Epoch: [3][150/391]\tTime  0.071 ( 0.075)\tData  0.023 ( 0.007)\tLoss 9.8153e-01 (9.9442e-01)\tAcc@1  67.97 ( 65.32)\tAcc@5  96.09 ( 96.47)\n",
            "Epoch: [3][200/391]\tTime  0.075 ( 0.074)\tData  0.000 ( 0.007)\tLoss 8.8422e-01 (9.8677e-01)\tAcc@1  66.41 ( 65.40)\tAcc@5  97.66 ( 96.51)\n",
            "Epoch: [3][250/391]\tTime  0.077 ( 0.074)\tData  0.000 ( 0.007)\tLoss 1.1397e+00 (9.8555e-01)\tAcc@1  61.72 ( 65.42)\tAcc@5  94.53 ( 96.50)\n",
            "Epoch: [3][300/391]\tTime  0.074 ( 0.074)\tData  0.011 ( 0.007)\tLoss 9.7995e-01 (9.7797e-01)\tAcc@1  66.41 ( 65.68)\tAcc@5  98.44 ( 96.58)\n",
            "Epoch: [3][350/391]\tTime  0.071 ( 0.074)\tData  0.005 ( 0.007)\tLoss 8.7578e-01 (9.7481e-01)\tAcc@1  65.62 ( 65.75)\tAcc@5  98.44 ( 96.66)\n",
            "Test: [ 0/79]\tTime  0.188 ( 0.188)\tLoss 8.8766e-01 (8.8766e-01)\tAcc@1  67.19 ( 67.19)\tAcc@5  96.88 ( 96.88)\n",
            "Test: [50/79]\tTime  0.026 ( 0.041)\tLoss 8.6969e-01 (9.9200e-01)\tAcc@1  71.88 ( 65.98)\tAcc@5  98.44 ( 96.19)\n",
            " * Acc@1 66.210 Acc@5 96.260\n",
            "lr: [0.09990133642141359]\n",
            "Epoch: [4][  0/391]\tTime  0.285 ( 0.285)\tData  0.205 ( 0.205)\tLoss 7.6719e-01 (7.6719e-01)\tAcc@1  75.78 ( 75.78)\tAcc@5  98.44 ( 98.44)\n",
            "Epoch: [4][ 50/391]\tTime  0.083 ( 0.076)\tData  0.025 ( 0.010)\tLoss 9.4847e-01 (9.3898e-01)\tAcc@1  64.06 ( 67.71)\tAcc@5  97.66 ( 97.18)\n",
            "Epoch: [4][100/391]\tTime  0.061 ( 0.074)\tData  0.000 ( 0.010)\tLoss 1.0801e+00 (9.4279e-01)\tAcc@1  64.84 ( 67.20)\tAcc@5  96.09 ( 97.29)\n",
            "Epoch: [4][150/391]\tTime  0.082 ( 0.074)\tData  0.006 ( 0.008)\tLoss 1.0197e+00 (9.3960e-01)\tAcc@1  58.59 ( 67.16)\tAcc@5  97.66 ( 97.26)\n",
            "Epoch: [4][200/391]\tTime  0.062 ( 0.074)\tData  0.007 ( 0.008)\tLoss 1.0121e+00 (9.4534e-01)\tAcc@1  69.53 ( 67.02)\tAcc@5  96.88 ( 97.17)\n",
            "Epoch: [4][250/391]\tTime  0.054 ( 0.073)\tData  0.001 ( 0.007)\tLoss 9.1074e-01 (9.3787e-01)\tAcc@1  70.31 ( 67.17)\tAcc@5  95.31 ( 97.20)\n",
            "Epoch: [4][300/391]\tTime  0.059 ( 0.073)\tData  0.007 ( 0.007)\tLoss 8.4095e-01 (9.2951e-01)\tAcc@1  71.88 ( 67.53)\tAcc@5  97.66 ( 97.27)\n",
            "Epoch: [4][350/391]\tTime  0.067 ( 0.073)\tData  0.000 ( 0.007)\tLoss 8.1821e-01 (9.2296e-01)\tAcc@1  68.75 ( 67.73)\tAcc@5  96.09 ( 97.28)\n",
            "Test: [ 0/79]\tTime  0.195 ( 0.195)\tLoss 8.1642e-01 (8.1642e-01)\tAcc@1  72.66 ( 72.66)\tAcc@5  95.31 ( 95.31)\n",
            "Test: [50/79]\tTime  0.071 ( 0.042)\tLoss 8.4743e-01 (8.9977e-01)\tAcc@1  70.31 ( 68.52)\tAcc@5  97.66 ( 97.41)\n",
            " * Acc@1 68.520 Acc@5 97.440\n",
            "lr: [0.09984586668665642]\n",
            "Epoch: [5][  0/391]\tTime  0.286 ( 0.286)\tData  0.200 ( 0.200)\tLoss 8.6940e-01 (8.6940e-01)\tAcc@1  73.44 ( 73.44)\tAcc@5  96.88 ( 96.88)\n",
            "Epoch: [5][ 50/391]\tTime  0.055 ( 0.076)\tData  0.005 ( 0.008)\tLoss 1.0652e+00 (8.8179e-01)\tAcc@1  69.53 ( 69.01)\tAcc@5  92.97 ( 97.30)\n",
            "Epoch: [5][100/391]\tTime  0.071 ( 0.074)\tData  0.000 ( 0.006)\tLoss 1.0160e+00 (8.7024e-01)\tAcc@1  60.16 ( 69.52)\tAcc@5  99.22 ( 97.56)\n",
            "Epoch: [5][150/391]\tTime  0.080 ( 0.073)\tData  0.000 ( 0.005)\tLoss 9.5846e-01 (8.7519e-01)\tAcc@1  69.53 ( 69.36)\tAcc@5  92.97 ( 97.58)\n",
            "Epoch: [5][200/391]\tTime  0.105 ( 0.073)\tData  0.039 ( 0.005)\tLoss 7.2712e-01 (8.7893e-01)\tAcc@1  75.78 ( 69.36)\tAcc@5 100.00 ( 97.52)\n",
            "Epoch: [5][250/391]\tTime  0.072 ( 0.073)\tData  0.000 ( 0.006)\tLoss 9.2722e-01 (8.7978e-01)\tAcc@1  69.53 ( 69.43)\tAcc@5  98.44 ( 97.54)\n",
            "Epoch: [5][300/391]\tTime  0.079 ( 0.073)\tData  0.000 ( 0.006)\tLoss 7.5443e-01 (8.7633e-01)\tAcc@1  76.56 ( 69.54)\tAcc@5  96.88 ( 97.58)\n",
            "Epoch: [5][350/391]\tTime  0.073 ( 0.073)\tData  0.005 ( 0.006)\tLoss 8.3732e-01 (8.7603e-01)\tAcc@1  70.31 ( 69.56)\tAcc@5  99.22 ( 97.52)\n",
            "Test: [ 0/79]\tTime  0.188 ( 0.188)\tLoss 8.9818e-01 (8.9818e-01)\tAcc@1  71.09 ( 71.09)\tAcc@5  93.75 ( 93.75)\n",
            "Test: [50/79]\tTime  0.028 ( 0.042)\tLoss 1.1183e+00 (9.9130e-01)\tAcc@1  61.72 ( 67.20)\tAcc@5  96.88 ( 96.66)\n",
            " * Acc@1 66.640 Acc@5 96.650\n",
            "lr: [0.09977809823015402]\n",
            "Epoch: [6][  0/391]\tTime  0.283 ( 0.283)\tData  0.208 ( 0.208)\tLoss 8.4464e-01 (8.4464e-01)\tAcc@1  71.09 ( 71.09)\tAcc@5  98.44 ( 98.44)\n",
            "Epoch: [6][ 50/391]\tTime  0.080 ( 0.075)\tData  0.023 ( 0.009)\tLoss 8.4196e-01 (8.4903e-01)\tAcc@1  69.53 ( 71.25)\tAcc@5  97.66 ( 97.73)\n",
            "Epoch: [6][100/391]\tTime  0.065 ( 0.073)\tData  0.004 ( 0.007)\tLoss 9.5333e-01 (8.5473e-01)\tAcc@1  71.88 ( 70.89)\tAcc@5  98.44 ( 97.67)\n",
            "Epoch: [6][150/391]\tTime  0.068 ( 0.073)\tData  0.000 ( 0.007)\tLoss 8.8107e-01 (8.5252e-01)\tAcc@1  71.09 ( 70.78)\tAcc@5  96.09 ( 97.66)\n",
            "Epoch: [6][200/391]\tTime  0.073 ( 0.073)\tData  0.006 ( 0.007)\tLoss 8.7503e-01 (8.5053e-01)\tAcc@1  68.75 ( 70.80)\tAcc@5 100.00 ( 97.66)\n",
            "Epoch: [6][250/391]\tTime  0.070 ( 0.073)\tData  0.007 ( 0.007)\tLoss 7.7024e-01 (8.5167e-01)\tAcc@1  71.09 ( 70.70)\tAcc@5  98.44 ( 97.62)\n",
            "Epoch: [6][300/391]\tTime  0.077 ( 0.073)\tData  0.000 ( 0.008)\tLoss 8.8477e-01 (8.5556e-01)\tAcc@1  67.19 ( 70.51)\tAcc@5  99.22 ( 97.61)\n",
            "Epoch: [6][350/391]\tTime  0.080 ( 0.073)\tData  0.016 ( 0.007)\tLoss 9.7454e-01 (8.5859e-01)\tAcc@1  67.97 ( 70.36)\tAcc@5  96.88 ( 97.60)\n",
            "Test: [ 0/79]\tTime  0.187 ( 0.187)\tLoss 8.6869e-01 (8.6869e-01)\tAcc@1  67.19 ( 67.19)\tAcc@5  97.66 ( 97.66)\n",
            "Test: [50/79]\tTime  0.065 ( 0.042)\tLoss 1.0409e+00 (1.0159e+00)\tAcc@1  67.19 ( 66.12)\tAcc@5  96.09 ( 97.72)\n",
            " * Acc@1 66.190 Acc@5 97.770\n",
            "lr: [0.09969804777275901]\n",
            "Epoch: [7][  0/391]\tTime  0.283 ( 0.283)\tData  0.209 ( 0.209)\tLoss 1.0006e+00 (1.0006e+00)\tAcc@1  66.41 ( 66.41)\tAcc@5  95.31 ( 95.31)\n",
            "Epoch: [7][ 50/391]\tTime  0.058 ( 0.078)\tData  0.000 ( 0.011)\tLoss 6.7798e-01 (8.2315e-01)\tAcc@1  78.12 ( 71.75)\tAcc@5  99.22 ( 97.81)\n",
            "Epoch: [7][100/391]\tTime  0.067 ( 0.076)\tData  0.000 ( 0.009)\tLoss 6.4158e-01 (8.2147e-01)\tAcc@1  78.91 ( 71.50)\tAcc@5 100.00 ( 97.85)\n",
            "Epoch: [7][150/391]\tTime  0.065 ( 0.075)\tData  0.000 ( 0.008)\tLoss 8.6644e-01 (8.2400e-01)\tAcc@1  71.09 ( 71.41)\tAcc@5  99.22 ( 97.82)\n",
            "Epoch: [7][200/391]\tTime  0.086 ( 0.074)\tData  0.016 ( 0.008)\tLoss 1.0840e+00 (8.2285e-01)\tAcc@1  64.84 ( 71.39)\tAcc@5  95.31 ( 97.84)\n",
            "Epoch: [7][250/391]\tTime  0.068 ( 0.074)\tData  0.000 ( 0.008)\tLoss 8.1981e-01 (8.2407e-01)\tAcc@1  71.88 ( 71.29)\tAcc@5  98.44 ( 97.75)\n",
            "Epoch: [7][300/391]\tTime  0.063 ( 0.074)\tData  0.001 ( 0.008)\tLoss 6.8085e-01 (8.2412e-01)\tAcc@1  75.00 ( 71.30)\tAcc@5  99.22 ( 97.76)\n",
            "Epoch: [7][350/391]\tTime  0.073 ( 0.074)\tData  0.000 ( 0.008)\tLoss 8.2476e-01 (8.2476e-01)\tAcc@1  67.19 ( 71.31)\tAcc@5  97.66 ( 97.77)\n",
            "Test: [ 0/79]\tTime  0.188 ( 0.188)\tLoss 7.3527e-01 (7.3527e-01)\tAcc@1  76.56 ( 76.56)\tAcc@5  96.88 ( 96.88)\n",
            "Test: [50/79]\tTime  0.018 ( 0.042)\tLoss 8.4657e-01 (8.5154e-01)\tAcc@1  74.22 ( 70.70)\tAcc@5  97.66 ( 97.73)\n",
            " * Acc@1 70.310 Acc@5 97.670\n",
            "lr: [0.09960573506572391]\n",
            "Epoch: [8][  0/391]\tTime  0.290 ( 0.290)\tData  0.221 ( 0.221)\tLoss 7.2954e-01 (7.2954e-01)\tAcc@1  73.44 ( 73.44)\tAcc@5  97.66 ( 97.66)\n",
            "Epoch: [8][ 50/391]\tTime  0.066 ( 0.079)\tData  0.000 ( 0.008)\tLoss 8.7594e-01 (8.2134e-01)\tAcc@1  67.19 ( 71.40)\tAcc@5  98.44 ( 97.38)\n",
            "Epoch: [8][100/391]\tTime  0.078 ( 0.075)\tData  0.001 ( 0.008)\tLoss 7.5331e-01 (8.1125e-01)\tAcc@1  73.44 ( 71.76)\tAcc@5  98.44 ( 97.78)\n",
            "Epoch: [8][150/391]\tTime  0.067 ( 0.074)\tData  0.007 ( 0.008)\tLoss 6.9818e-01 (8.0702e-01)\tAcc@1  76.56 ( 72.13)\tAcc@5  98.44 ( 97.83)\n",
            "Epoch: [8][200/391]\tTime  0.075 ( 0.074)\tData  0.024 ( 0.007)\tLoss 1.0466e+00 (8.0806e-01)\tAcc@1  66.41 ( 71.98)\tAcc@5  95.31 ( 97.89)\n",
            "Epoch: [8][250/391]\tTime  0.072 ( 0.074)\tData  0.009 ( 0.007)\tLoss 7.5249e-01 (8.0784e-01)\tAcc@1  71.88 ( 71.98)\tAcc@5  98.44 ( 97.83)\n",
            "Epoch: [8][300/391]\tTime  0.062 ( 0.074)\tData  0.000 ( 0.007)\tLoss 8.8603e-01 (8.1068e-01)\tAcc@1  71.88 ( 71.83)\tAcc@5  98.44 ( 97.84)\n",
            "Epoch: [8][350/391]\tTime  0.075 ( 0.074)\tData  0.014 ( 0.007)\tLoss 7.9063e-01 (8.0867e-01)\tAcc@1  75.00 ( 71.92)\tAcc@5  98.44 ( 97.81)\n",
            "Test: [ 0/79]\tTime  0.177 ( 0.177)\tLoss 6.8046e-01 (6.8046e-01)\tAcc@1  78.12 ( 78.12)\tAcc@5  95.31 ( 95.31)\n",
            "Test: [50/79]\tTime  0.063 ( 0.043)\tLoss 9.0331e-01 (8.2684e-01)\tAcc@1  70.31 ( 72.14)\tAcc@5  96.09 ( 97.89)\n",
            " * Acc@1 71.840 Acc@5 97.820\n",
            "lr: [0.09950118288582789]\n",
            "Epoch: [9][  0/391]\tTime  0.286 ( 0.286)\tData  0.197 ( 0.197)\tLoss 8.2285e-01 (8.2285e-01)\tAcc@1  71.09 ( 71.09)\tAcc@5  97.66 ( 97.66)\n",
            "Epoch: [9][ 50/391]\tTime  0.079 ( 0.077)\tData  0.016 ( 0.012)\tLoss 7.2951e-01 (7.7040e-01)\tAcc@1  71.88 ( 73.74)\tAcc@5  99.22 ( 98.04)\n",
            "Epoch: [9][100/391]\tTime  0.066 ( 0.075)\tData  0.000 ( 0.010)\tLoss 8.1183e-01 (7.6870e-01)\tAcc@1  66.41 ( 73.55)\tAcc@5  98.44 ( 97.90)\n",
            "Epoch: [9][150/391]\tTime  0.076 ( 0.074)\tData  0.000 ( 0.009)\tLoss 8.9203e-01 (7.6885e-01)\tAcc@1  71.88 ( 73.60)\tAcc@5  98.44 ( 98.02)\n"
          ]
        },
        {
          "output_type": "error",
          "ename": "KeyboardInterrupt",
          "evalue": "ignored",
          "traceback": [
            "\u001b[0;31m---------------------------------------------------------------------------\u001b[0m",
            "\u001b[0;31mKeyboardInterrupt\u001b[0m                         Traceback (most recent call last)",
            "\u001b[0;32m<ipython-input-45-102c81ae3a82>\u001b[0m in \u001b[0;36m<module>\u001b[0;34m()\u001b[0m\n\u001b[1;32m      3\u001b[0m \u001b[0;34m\u001b[0m\u001b[0m\n\u001b[1;32m      4\u001b[0m     \u001b[0;31m# train for one epoch\u001b[0m\u001b[0;34m\u001b[0m\u001b[0;34m\u001b[0m\u001b[0;34m\u001b[0m\u001b[0m\n\u001b[0;32m----> 5\u001b[0;31m     \u001b[0mtrain\u001b[0m\u001b[0;34m(\u001b[0m\u001b[0mtrain_loader\u001b[0m\u001b[0;34m,\u001b[0m \u001b[0mmodel\u001b[0m\u001b[0;34m,\u001b[0m \u001b[0mcriterion\u001b[0m\u001b[0;34m,\u001b[0m \u001b[0moptimizer\u001b[0m\u001b[0;34m,\u001b[0m \u001b[0mepoch\u001b[0m\u001b[0;34m)\u001b[0m\u001b[0;34m\u001b[0m\u001b[0;34m\u001b[0m\u001b[0m\n\u001b[0m\u001b[1;32m      6\u001b[0m \u001b[0;34m\u001b[0m\u001b[0m\n\u001b[1;32m      7\u001b[0m     \u001b[0;31m# evaluate on validation set\u001b[0m\u001b[0;34m\u001b[0m\u001b[0;34m\u001b[0m\u001b[0;34m\u001b[0m\u001b[0m\n",
            "\u001b[0;32m<ipython-input-16-fb06aae59161>\u001b[0m in \u001b[0;36mtrain\u001b[0;34m(train_loader, model, criterion, optimizer, epoch)\u001b[0m\n\u001b[1;32m     51\u001b[0m         \u001b[0;31m## backprop!\u001b[0m\u001b[0;34m\u001b[0m\u001b[0;34m\u001b[0m\u001b[0;34m\u001b[0m\u001b[0m\n\u001b[1;32m     52\u001b[0m         \u001b[0;31m### loss... ???\u001b[0m\u001b[0;34m\u001b[0m\u001b[0;34m\u001b[0m\u001b[0;34m\u001b[0m\u001b[0m\n\u001b[0;32m---> 53\u001b[0;31m         \u001b[0mloss\u001b[0m\u001b[0;34m.\u001b[0m\u001b[0mbackward\u001b[0m\u001b[0;34m(\u001b[0m\u001b[0;34m)\u001b[0m\u001b[0;34m\u001b[0m\u001b[0;34m\u001b[0m\u001b[0m\n\u001b[0m\u001b[1;32m     54\u001b[0m \u001b[0;34m\u001b[0m\u001b[0m\n\u001b[1;32m     55\u001b[0m         \u001b[0;31m# update the weights!\u001b[0m\u001b[0;34m\u001b[0m\u001b[0;34m\u001b[0m\u001b[0;34m\u001b[0m\u001b[0m\n",
            "\u001b[0;32m/usr/local/lib/python3.7/dist-packages/torch/_tensor.py\u001b[0m in \u001b[0;36mbackward\u001b[0;34m(self, gradient, retain_graph, create_graph, inputs)\u001b[0m\n\u001b[1;32m    305\u001b[0m                 \u001b[0mcreate_graph\u001b[0m\u001b[0;34m=\u001b[0m\u001b[0mcreate_graph\u001b[0m\u001b[0;34m,\u001b[0m\u001b[0;34m\u001b[0m\u001b[0;34m\u001b[0m\u001b[0m\n\u001b[1;32m    306\u001b[0m                 inputs=inputs)\n\u001b[0;32m--> 307\u001b[0;31m         \u001b[0mtorch\u001b[0m\u001b[0;34m.\u001b[0m\u001b[0mautograd\u001b[0m\u001b[0;34m.\u001b[0m\u001b[0mbackward\u001b[0m\u001b[0;34m(\u001b[0m\u001b[0mself\u001b[0m\u001b[0;34m,\u001b[0m \u001b[0mgradient\u001b[0m\u001b[0;34m,\u001b[0m \u001b[0mretain_graph\u001b[0m\u001b[0;34m,\u001b[0m \u001b[0mcreate_graph\u001b[0m\u001b[0;34m,\u001b[0m \u001b[0minputs\u001b[0m\u001b[0;34m=\u001b[0m\u001b[0minputs\u001b[0m\u001b[0;34m)\u001b[0m\u001b[0;34m\u001b[0m\u001b[0;34m\u001b[0m\u001b[0m\n\u001b[0m\u001b[1;32m    308\u001b[0m \u001b[0;34m\u001b[0m\u001b[0m\n\u001b[1;32m    309\u001b[0m     \u001b[0;32mdef\u001b[0m \u001b[0mregister_hook\u001b[0m\u001b[0;34m(\u001b[0m\u001b[0mself\u001b[0m\u001b[0;34m,\u001b[0m \u001b[0mhook\u001b[0m\u001b[0;34m)\u001b[0m\u001b[0;34m:\u001b[0m\u001b[0;34m\u001b[0m\u001b[0;34m\u001b[0m\u001b[0m\n",
            "\u001b[0;32m/usr/local/lib/python3.7/dist-packages/torch/autograd/__init__.py\u001b[0m in \u001b[0;36mbackward\u001b[0;34m(tensors, grad_tensors, retain_graph, create_graph, grad_variables, inputs)\u001b[0m\n\u001b[1;32m    154\u001b[0m     Variable._execution_engine.run_backward(\n\u001b[1;32m    155\u001b[0m         \u001b[0mtensors\u001b[0m\u001b[0;34m,\u001b[0m \u001b[0mgrad_tensors_\u001b[0m\u001b[0;34m,\u001b[0m \u001b[0mretain_graph\u001b[0m\u001b[0;34m,\u001b[0m \u001b[0mcreate_graph\u001b[0m\u001b[0;34m,\u001b[0m \u001b[0minputs\u001b[0m\u001b[0;34m,\u001b[0m\u001b[0;34m\u001b[0m\u001b[0;34m\u001b[0m\u001b[0m\n\u001b[0;32m--> 156\u001b[0;31m         allow_unreachable=True, accumulate_grad=True)  # allow_unreachable flag\n\u001b[0m\u001b[1;32m    157\u001b[0m \u001b[0;34m\u001b[0m\u001b[0m\n\u001b[1;32m    158\u001b[0m \u001b[0;34m\u001b[0m\u001b[0m\n",
            "\u001b[0;31mKeyboardInterrupt\u001b[0m: "
          ]
        }
      ],
      "source": [
        "for epoch in range(START_EPOCH, EPOCHS):\n",
        "#    adjust_learning_rate(optimizer, epoch)\n",
        "\n",
        "    # train for one epoch\n",
        "    train(train_loader, model, criterion, optimizer, epoch)\n",
        "\n",
        "    # evaluate on validation set\n",
        "    acc1 = validate(val_loader, model, criterion)\n",
        "\n",
        "    # remember best acc@1 and save checkpoint\n",
        "    is_best = acc1 > best_acc1\n",
        "    best_acc1 = max(acc1, best_acc1)\n",
        "\n",
        "\n",
        "    save_checkpoint({\n",
        "          'epoch': epoch + 1,\n",
        "          'arch': ARCH,\n",
        "          'state_dict': model.state_dict(),\n",
        "          'best_acc1': best_acc1,\n",
        "          'optimizer' : optimizer.state_dict(),}, \n",
        "        is_best)\n",
        "    \n",
        "    scheduler.step()\n",
        "    print('lr: ' + str(scheduler.get_last_lr()))"
      ]
    },
    {
      "cell_type": "code",
      "execution_count": null,
      "id": "45c4cb64",
      "metadata": {
        "id": "45c4cb64"
      },
      "outputs": [],
      "source": [
        ""
      ]
    },
    {
      "cell_type": "code",
      "execution_count": null,
      "id": "0d8d6131",
      "metadata": {
        "id": "0d8d6131"
      },
      "outputs": [],
      "source": [
        ""
      ]
    }
  ],
  "metadata": {
    "kernelspec": {
      "display_name": "Python 3",
      "language": "python",
      "name": "python3"
    },
    "language_info": {
      "codemirror_mode": {
        "name": "ipython",
        "version": 3
      },
      "file_extension": ".py",
      "mimetype": "text/x-python",
      "name": "python",
      "nbconvert_exporter": "python",
      "pygments_lexer": "ipython3",
      "version": "3.6.9"
    },
    "colab": {
      "name": "cifar_lab.ipynb",
      "provenance": []
    },
    "accelerator": "GPU",
    "widgets": {
      "application/vnd.jupyter.widget-state+json": {
        "342a2e614be74fa8a17146fe47650811": {
          "model_module": "@jupyter-widgets/controls",
          "model_name": "HBoxModel",
          "model_module_version": "1.5.0",
          "state": {
            "_view_name": "HBoxView",
            "_dom_classes": [],
            "_model_name": "HBoxModel",
            "_view_module": "@jupyter-widgets/controls",
            "_model_module_version": "1.5.0",
            "_view_count": null,
            "_view_module_version": "1.5.0",
            "box_style": "",
            "layout": "IPY_MODEL_43cec9c9d03d48d2b9bc6b99cc527022",
            "_model_module": "@jupyter-widgets/controls",
            "children": [
              "IPY_MODEL_44a90cb66fac49a698b7640e41255ca6",
              "IPY_MODEL_22a5917e355342ca8c22d924a7674b55",
              "IPY_MODEL_3a629b7102e2434a85a309ff01b28b44"
            ]
          }
        },
        "43cec9c9d03d48d2b9bc6b99cc527022": {
          "model_module": "@jupyter-widgets/base",
          "model_name": "LayoutModel",
          "model_module_version": "1.2.0",
          "state": {
            "_view_name": "LayoutView",
            "grid_template_rows": null,
            "right": null,
            "justify_content": null,
            "_view_module": "@jupyter-widgets/base",
            "overflow": null,
            "_model_module_version": "1.2.0",
            "_view_count": null,
            "flex_flow": null,
            "width": null,
            "min_width": null,
            "border": null,
            "align_items": null,
            "bottom": null,
            "_model_module": "@jupyter-widgets/base",
            "top": null,
            "grid_column": null,
            "overflow_y": null,
            "overflow_x": null,
            "grid_auto_flow": null,
            "grid_area": null,
            "grid_template_columns": null,
            "flex": null,
            "_model_name": "LayoutModel",
            "justify_items": null,
            "grid_row": null,
            "max_height": null,
            "align_content": null,
            "visibility": null,
            "align_self": null,
            "height": null,
            "min_height": null,
            "padding": null,
            "grid_auto_rows": null,
            "grid_gap": null,
            "max_width": null,
            "order": null,
            "_view_module_version": "1.2.0",
            "grid_template_areas": null,
            "object_position": null,
            "object_fit": null,
            "grid_auto_columns": null,
            "margin": null,
            "display": null,
            "left": null
          }
        },
        "44a90cb66fac49a698b7640e41255ca6": {
          "model_module": "@jupyter-widgets/controls",
          "model_name": "HTMLModel",
          "model_module_version": "1.5.0",
          "state": {
            "_view_name": "HTMLView",
            "style": "IPY_MODEL_72c3736ac96c430296058efd8d1af679",
            "_dom_classes": [],
            "description": "",
            "_model_name": "HTMLModel",
            "placeholder": "​",
            "_view_module": "@jupyter-widgets/controls",
            "_model_module_version": "1.5.0",
            "value": "",
            "_view_count": null,
            "_view_module_version": "1.5.0",
            "description_tooltip": null,
            "_model_module": "@jupyter-widgets/controls",
            "layout": "IPY_MODEL_4a52ded273a24476b45df8599add8f88"
          }
        },
        "22a5917e355342ca8c22d924a7674b55": {
          "model_module": "@jupyter-widgets/controls",
          "model_name": "FloatProgressModel",
          "model_module_version": "1.5.0",
          "state": {
            "_view_name": "ProgressView",
            "style": "IPY_MODEL_3cfef8712dfd40019ad2b7ea545502e5",
            "_dom_classes": [],
            "description": "",
            "_model_name": "FloatProgressModel",
            "bar_style": "success",
            "max": 170498071,
            "_view_module": "@jupyter-widgets/controls",
            "_model_module_version": "1.5.0",
            "value": 170498071,
            "_view_count": null,
            "_view_module_version": "1.5.0",
            "orientation": "horizontal",
            "min": 0,
            "description_tooltip": null,
            "_model_module": "@jupyter-widgets/controls",
            "layout": "IPY_MODEL_67ba4eb312e3460587839a53513d2019"
          }
        },
        "3a629b7102e2434a85a309ff01b28b44": {
          "model_module": "@jupyter-widgets/controls",
          "model_name": "HTMLModel",
          "model_module_version": "1.5.0",
          "state": {
            "_view_name": "HTMLView",
            "style": "IPY_MODEL_81e5fb7393284824967f17bef94a6dac",
            "_dom_classes": [],
            "description": "",
            "_model_name": "HTMLModel",
            "placeholder": "​",
            "_view_module": "@jupyter-widgets/controls",
            "_model_module_version": "1.5.0",
            "value": " 170499072/? [00:03&lt;00:00, 59913709.53it/s]",
            "_view_count": null,
            "_view_module_version": "1.5.0",
            "description_tooltip": null,
            "_model_module": "@jupyter-widgets/controls",
            "layout": "IPY_MODEL_a9a9a588c9fb43d79b9afad5e2a10c31"
          }
        },
        "72c3736ac96c430296058efd8d1af679": {
          "model_module": "@jupyter-widgets/controls",
          "model_name": "DescriptionStyleModel",
          "model_module_version": "1.5.0",
          "state": {
            "_view_name": "StyleView",
            "_model_name": "DescriptionStyleModel",
            "description_width": "",
            "_view_module": "@jupyter-widgets/base",
            "_model_module_version": "1.5.0",
            "_view_count": null,
            "_view_module_version": "1.2.0",
            "_model_module": "@jupyter-widgets/controls"
          }
        },
        "4a52ded273a24476b45df8599add8f88": {
          "model_module": "@jupyter-widgets/base",
          "model_name": "LayoutModel",
          "model_module_version": "1.2.0",
          "state": {
            "_view_name": "LayoutView",
            "grid_template_rows": null,
            "right": null,
            "justify_content": null,
            "_view_module": "@jupyter-widgets/base",
            "overflow": null,
            "_model_module_version": "1.2.0",
            "_view_count": null,
            "flex_flow": null,
            "width": null,
            "min_width": null,
            "border": null,
            "align_items": null,
            "bottom": null,
            "_model_module": "@jupyter-widgets/base",
            "top": null,
            "grid_column": null,
            "overflow_y": null,
            "overflow_x": null,
            "grid_auto_flow": null,
            "grid_area": null,
            "grid_template_columns": null,
            "flex": null,
            "_model_name": "LayoutModel",
            "justify_items": null,
            "grid_row": null,
            "max_height": null,
            "align_content": null,
            "visibility": null,
            "align_self": null,
            "height": null,
            "min_height": null,
            "padding": null,
            "grid_auto_rows": null,
            "grid_gap": null,
            "max_width": null,
            "order": null,
            "_view_module_version": "1.2.0",
            "grid_template_areas": null,
            "object_position": null,
            "object_fit": null,
            "grid_auto_columns": null,
            "margin": null,
            "display": null,
            "left": null
          }
        },
        "3cfef8712dfd40019ad2b7ea545502e5": {
          "model_module": "@jupyter-widgets/controls",
          "model_name": "ProgressStyleModel",
          "model_module_version": "1.5.0",
          "state": {
            "_view_name": "StyleView",
            "_model_name": "ProgressStyleModel",
            "description_width": "",
            "_view_module": "@jupyter-widgets/base",
            "_model_module_version": "1.5.0",
            "_view_count": null,
            "_view_module_version": "1.2.0",
            "bar_color": null,
            "_model_module": "@jupyter-widgets/controls"
          }
        },
        "67ba4eb312e3460587839a53513d2019": {
          "model_module": "@jupyter-widgets/base",
          "model_name": "LayoutModel",
          "model_module_version": "1.2.0",
          "state": {
            "_view_name": "LayoutView",
            "grid_template_rows": null,
            "right": null,
            "justify_content": null,
            "_view_module": "@jupyter-widgets/base",
            "overflow": null,
            "_model_module_version": "1.2.0",
            "_view_count": null,
            "flex_flow": null,
            "width": null,
            "min_width": null,
            "border": null,
            "align_items": null,
            "bottom": null,
            "_model_module": "@jupyter-widgets/base",
            "top": null,
            "grid_column": null,
            "overflow_y": null,
            "overflow_x": null,
            "grid_auto_flow": null,
            "grid_area": null,
            "grid_template_columns": null,
            "flex": null,
            "_model_name": "LayoutModel",
            "justify_items": null,
            "grid_row": null,
            "max_height": null,
            "align_content": null,
            "visibility": null,
            "align_self": null,
            "height": null,
            "min_height": null,
            "padding": null,
            "grid_auto_rows": null,
            "grid_gap": null,
            "max_width": null,
            "order": null,
            "_view_module_version": "1.2.0",
            "grid_template_areas": null,
            "object_position": null,
            "object_fit": null,
            "grid_auto_columns": null,
            "margin": null,
            "display": null,
            "left": null
          }
        },
        "81e5fb7393284824967f17bef94a6dac": {
          "model_module": "@jupyter-widgets/controls",
          "model_name": "DescriptionStyleModel",
          "model_module_version": "1.5.0",
          "state": {
            "_view_name": "StyleView",
            "_model_name": "DescriptionStyleModel",
            "description_width": "",
            "_view_module": "@jupyter-widgets/base",
            "_model_module_version": "1.5.0",
            "_view_count": null,
            "_view_module_version": "1.2.0",
            "_model_module": "@jupyter-widgets/controls"
          }
        },
        "a9a9a588c9fb43d79b9afad5e2a10c31": {
          "model_module": "@jupyter-widgets/base",
          "model_name": "LayoutModel",
          "model_module_version": "1.2.0",
          "state": {
            "_view_name": "LayoutView",
            "grid_template_rows": null,
            "right": null,
            "justify_content": null,
            "_view_module": "@jupyter-widgets/base",
            "overflow": null,
            "_model_module_version": "1.2.0",
            "_view_count": null,
            "flex_flow": null,
            "width": null,
            "min_width": null,
            "border": null,
            "align_items": null,
            "bottom": null,
            "_model_module": "@jupyter-widgets/base",
            "top": null,
            "grid_column": null,
            "overflow_y": null,
            "overflow_x": null,
            "grid_auto_flow": null,
            "grid_area": null,
            "grid_template_columns": null,
            "flex": null,
            "_model_name": "LayoutModel",
            "justify_items": null,
            "grid_row": null,
            "max_height": null,
            "align_content": null,
            "visibility": null,
            "align_self": null,
            "height": null,
            "min_height": null,
            "padding": null,
            "grid_auto_rows": null,
            "grid_gap": null,
            "max_width": null,
            "order": null,
            "_view_module_version": "1.2.0",
            "grid_template_areas": null,
            "object_position": null,
            "object_fit": null,
            "grid_auto_columns": null,
            "margin": null,
            "display": null,
            "left": null
          }
        }
      }
    }
  },
  "nbformat": 4,
  "nbformat_minor": 5
}